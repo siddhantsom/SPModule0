{
 "cells": [
  {
   "cell_type": "markdown",
   "id": "7d2c477e",
   "metadata": {},
   "source": [
    "## The Ultimate Guide to Pokemon"
   ]
  },
  {
   "cell_type": "code",
   "execution_count": 2,
   "id": "f725d7c7",
   "metadata": {},
   "outputs": [],
   "source": [
    "import pandas as pd\n",
    "import matplotlib.pyplot as plt\n",
    "%matplotlib inline"
   ]
  },
  {
   "cell_type": "code",
   "execution_count": 80,
   "id": "1c88813d",
   "metadata": {},
   "outputs": [],
   "source": [
    "data = pd.read_csv(r\"C:\\Personal\\The Scrappy Project\\module_4\\pokemon.csv\")"
   ]
  },
  {
   "cell_type": "code",
   "execution_count": 5,
   "id": "4985a8de",
   "metadata": {},
   "outputs": [
    {
     "data": {
      "text/html": [
       "<div>\n",
       "<style scoped>\n",
       "    .dataframe tbody tr th:only-of-type {\n",
       "        vertical-align: middle;\n",
       "    }\n",
       "\n",
       "    .dataframe tbody tr th {\n",
       "        vertical-align: top;\n",
       "    }\n",
       "\n",
       "    .dataframe thead th {\n",
       "        text-align: right;\n",
       "    }\n",
       "</style>\n",
       "<table border=\"1\" class=\"dataframe\">\n",
       "  <thead>\n",
       "    <tr style=\"text-align: right;\">\n",
       "      <th></th>\n",
       "      <th>abilities</th>\n",
       "      <th>against_bug</th>\n",
       "      <th>against_dark</th>\n",
       "      <th>against_dragon</th>\n",
       "      <th>against_electric</th>\n",
       "      <th>against_fairy</th>\n",
       "      <th>against_fight</th>\n",
       "      <th>against_fire</th>\n",
       "      <th>against_flying</th>\n",
       "      <th>against_ghost</th>\n",
       "      <th>...</th>\n",
       "      <th>percentage_male</th>\n",
       "      <th>pokedex_number</th>\n",
       "      <th>sp_attack</th>\n",
       "      <th>sp_defense</th>\n",
       "      <th>speed</th>\n",
       "      <th>type1</th>\n",
       "      <th>type2</th>\n",
       "      <th>weight_kg</th>\n",
       "      <th>generation</th>\n",
       "      <th>is_legendary</th>\n",
       "    </tr>\n",
       "  </thead>\n",
       "  <tbody>\n",
       "    <tr>\n",
       "      <th>0</th>\n",
       "      <td>['Overgrow', 'Chlorophyll']</td>\n",
       "      <td>1.0</td>\n",
       "      <td>1.0</td>\n",
       "      <td>1.0</td>\n",
       "      <td>0.5</td>\n",
       "      <td>0.5</td>\n",
       "      <td>0.5</td>\n",
       "      <td>2.0</td>\n",
       "      <td>2.0</td>\n",
       "      <td>1.0</td>\n",
       "      <td>...</td>\n",
       "      <td>88.1</td>\n",
       "      <td>1</td>\n",
       "      <td>65</td>\n",
       "      <td>65</td>\n",
       "      <td>45</td>\n",
       "      <td>grass</td>\n",
       "      <td>poison</td>\n",
       "      <td>6.9</td>\n",
       "      <td>1</td>\n",
       "      <td>0</td>\n",
       "    </tr>\n",
       "    <tr>\n",
       "      <th>1</th>\n",
       "      <td>['Overgrow', 'Chlorophyll']</td>\n",
       "      <td>1.0</td>\n",
       "      <td>1.0</td>\n",
       "      <td>1.0</td>\n",
       "      <td>0.5</td>\n",
       "      <td>0.5</td>\n",
       "      <td>0.5</td>\n",
       "      <td>2.0</td>\n",
       "      <td>2.0</td>\n",
       "      <td>1.0</td>\n",
       "      <td>...</td>\n",
       "      <td>88.1</td>\n",
       "      <td>2</td>\n",
       "      <td>80</td>\n",
       "      <td>80</td>\n",
       "      <td>60</td>\n",
       "      <td>grass</td>\n",
       "      <td>poison</td>\n",
       "      <td>13.0</td>\n",
       "      <td>1</td>\n",
       "      <td>0</td>\n",
       "    </tr>\n",
       "    <tr>\n",
       "      <th>2</th>\n",
       "      <td>['Overgrow', 'Chlorophyll']</td>\n",
       "      <td>1.0</td>\n",
       "      <td>1.0</td>\n",
       "      <td>1.0</td>\n",
       "      <td>0.5</td>\n",
       "      <td>0.5</td>\n",
       "      <td>0.5</td>\n",
       "      <td>2.0</td>\n",
       "      <td>2.0</td>\n",
       "      <td>1.0</td>\n",
       "      <td>...</td>\n",
       "      <td>88.1</td>\n",
       "      <td>3</td>\n",
       "      <td>122</td>\n",
       "      <td>120</td>\n",
       "      <td>80</td>\n",
       "      <td>grass</td>\n",
       "      <td>poison</td>\n",
       "      <td>100.0</td>\n",
       "      <td>1</td>\n",
       "      <td>0</td>\n",
       "    </tr>\n",
       "    <tr>\n",
       "      <th>3</th>\n",
       "      <td>['Blaze', 'Solar Power']</td>\n",
       "      <td>0.5</td>\n",
       "      <td>1.0</td>\n",
       "      <td>1.0</td>\n",
       "      <td>1.0</td>\n",
       "      <td>0.5</td>\n",
       "      <td>1.0</td>\n",
       "      <td>0.5</td>\n",
       "      <td>1.0</td>\n",
       "      <td>1.0</td>\n",
       "      <td>...</td>\n",
       "      <td>88.1</td>\n",
       "      <td>4</td>\n",
       "      <td>60</td>\n",
       "      <td>50</td>\n",
       "      <td>65</td>\n",
       "      <td>fire</td>\n",
       "      <td>NaN</td>\n",
       "      <td>8.5</td>\n",
       "      <td>1</td>\n",
       "      <td>0</td>\n",
       "    </tr>\n",
       "    <tr>\n",
       "      <th>4</th>\n",
       "      <td>['Blaze', 'Solar Power']</td>\n",
       "      <td>0.5</td>\n",
       "      <td>1.0</td>\n",
       "      <td>1.0</td>\n",
       "      <td>1.0</td>\n",
       "      <td>0.5</td>\n",
       "      <td>1.0</td>\n",
       "      <td>0.5</td>\n",
       "      <td>1.0</td>\n",
       "      <td>1.0</td>\n",
       "      <td>...</td>\n",
       "      <td>88.1</td>\n",
       "      <td>5</td>\n",
       "      <td>80</td>\n",
       "      <td>65</td>\n",
       "      <td>80</td>\n",
       "      <td>fire</td>\n",
       "      <td>NaN</td>\n",
       "      <td>19.0</td>\n",
       "      <td>1</td>\n",
       "      <td>0</td>\n",
       "    </tr>\n",
       "  </tbody>\n",
       "</table>\n",
       "<p>5 rows × 41 columns</p>\n",
       "</div>"
      ],
      "text/plain": [
       "                     abilities  against_bug  against_dark  against_dragon  \\\n",
       "0  ['Overgrow', 'Chlorophyll']          1.0           1.0             1.0   \n",
       "1  ['Overgrow', 'Chlorophyll']          1.0           1.0             1.0   \n",
       "2  ['Overgrow', 'Chlorophyll']          1.0           1.0             1.0   \n",
       "3     ['Blaze', 'Solar Power']          0.5           1.0             1.0   \n",
       "4     ['Blaze', 'Solar Power']          0.5           1.0             1.0   \n",
       "\n",
       "   against_electric  against_fairy  against_fight  against_fire  \\\n",
       "0               0.5            0.5            0.5           2.0   \n",
       "1               0.5            0.5            0.5           2.0   \n",
       "2               0.5            0.5            0.5           2.0   \n",
       "3               1.0            0.5            1.0           0.5   \n",
       "4               1.0            0.5            1.0           0.5   \n",
       "\n",
       "   against_flying  against_ghost  ...  percentage_male  pokedex_number  \\\n",
       "0             2.0            1.0  ...             88.1               1   \n",
       "1             2.0            1.0  ...             88.1               2   \n",
       "2             2.0            1.0  ...             88.1               3   \n",
       "3             1.0            1.0  ...             88.1               4   \n",
       "4             1.0            1.0  ...             88.1               5   \n",
       "\n",
       "   sp_attack  sp_defense  speed  type1   type2  weight_kg  generation  \\\n",
       "0         65          65     45  grass  poison        6.9           1   \n",
       "1         80          80     60  grass  poison       13.0           1   \n",
       "2        122         120     80  grass  poison      100.0           1   \n",
       "3         60          50     65   fire     NaN        8.5           1   \n",
       "4         80          65     80   fire     NaN       19.0           1   \n",
       "\n",
       "   is_legendary  \n",
       "0             0  \n",
       "1             0  \n",
       "2             0  \n",
       "3             0  \n",
       "4             0  \n",
       "\n",
       "[5 rows x 41 columns]"
      ]
     },
     "execution_count": 5,
     "metadata": {},
     "output_type": "execute_result"
    }
   ],
   "source": [
    "data.head(5)"
   ]
  },
  {
   "cell_type": "markdown",
   "id": "dc19364c",
   "metadata": {},
   "source": [
    "1. How many Pokemon exist in the first seven generations?"
   ]
  },
  {
   "cell_type": "code",
   "execution_count": 7,
   "id": "e4250af7",
   "metadata": {},
   "outputs": [
    {
     "name": "stdout",
     "output_type": "stream",
     "text": [
      "The number of pokemon in the first seven generations:  801\n"
     ]
    }
   ],
   "source": [
    "print('The number of pokemon in the first seven generations: ', data.shape[0])"
   ]
  },
  {
   "cell_type": "markdown",
   "id": "a900e5ad",
   "metadata": {},
   "source": [
    "2. List the columns that exist in this dataset. "
   ]
  },
  {
   "cell_type": "code",
   "execution_count": 14,
   "id": "e89b3197",
   "metadata": {},
   "outputs": [
    {
     "name": "stdout",
     "output_type": "stream",
     "text": [
      "abilities\n",
      "against_bug\n",
      "against_dark\n",
      "against_dragon\n",
      "against_electric\n",
      "against_fairy\n",
      "against_fight\n",
      "against_fire\n",
      "against_flying\n",
      "against_ghost\n",
      "against_grass\n",
      "against_ground\n",
      "against_ice\n",
      "against_normal\n",
      "against_poison\n",
      "against_psychic\n",
      "against_rock\n",
      "against_steel\n",
      "against_water\n",
      "attack\n",
      "base_egg_steps\n",
      "base_happiness\n",
      "base_total\n",
      "capture_rate\n",
      "classfication\n",
      "defense\n",
      "experience_growth\n",
      "height_m\n",
      "hp\n",
      "japanese_name\n",
      "name\n",
      "percentage_male\n",
      "pokedex_number\n",
      "sp_attack\n",
      "sp_defense\n",
      "speed\n",
      "type1\n",
      "type2\n",
      "weight_kg\n",
      "generation\n",
      "is_legendary\n"
     ]
    }
   ],
   "source": [
    "for col in data.columns:\n",
    "    print(col)"
   ]
  },
  {
   "cell_type": "markdown",
   "id": "6f7009a9",
   "metadata": {},
   "source": [
    "3. How many genderless pokemon exist?"
   ]
  },
  {
   "cell_type": "code",
   "execution_count": 22,
   "id": "62ca2d7e",
   "metadata": {},
   "outputs": [
    {
     "name": "stdout",
     "output_type": "stream",
     "text": [
      "The number of genderless pokemon: 98\n"
     ]
    }
   ],
   "source": [
    "print('The number of genderless pokemon:', sum(data['percentage_male'].isna()))"
   ]
  },
  {
   "cell_type": "markdown",
   "id": "40c493d6",
   "metadata": {},
   "source": [
    "4. List the top 10 species of Pokemon where the Pokemon are overwhelmingly female. "
   ]
  },
  {
   "cell_type": "code",
   "execution_count": 35,
   "id": "64533d0f",
   "metadata": {},
   "outputs": [],
   "source": [
    "female_pokemon = data[data['percentage_male']<50].sort_values(by = 'percentage_male')"
   ]
  },
  {
   "cell_type": "code",
   "execution_count": 40,
   "id": "e71aaa2d",
   "metadata": {},
   "outputs": [
    {
     "name": "stdout",
     "output_type": "stream",
     "text": [
      "Nidoran♀\n",
      "Latias\n",
      "Tsareena\n",
      "Vespiquen\n",
      "Happiny\n",
      "Froslass\n",
      "Cresselia\n",
      "Petilil\n",
      "Illumise\n",
      "Lilligant\n"
     ]
    }
   ],
   "source": [
    "for pokemon in female_pokemon['name'][:10]:\n",
    "    print(pokemon)"
   ]
  },
  {
   "cell_type": "markdown",
   "id": "9d5f3990",
   "metadata": {},
   "source": [
    "5. List all pokemon types. "
   ]
  },
  {
   "cell_type": "code",
   "execution_count": 43,
   "id": "72ae8de8",
   "metadata": {},
   "outputs": [
    {
     "name": "stdout",
     "output_type": "stream",
     "text": [
      "Primary types of pokemon are: \n",
      "\n",
      "grass\n",
      "fire\n",
      "water\n",
      "bug\n",
      "normal\n",
      "poison\n",
      "electric\n",
      "ground\n",
      "fairy\n",
      "fighting\n",
      "psychic\n",
      "rock\n",
      "ghost\n",
      "ice\n",
      "dragon\n",
      "dark\n",
      "steel\n",
      "flying\n"
     ]
    }
   ],
   "source": [
    "print('Primary types of pokemon are: ')\n",
    "print()\n",
    "for t in data['type1'].unique():\n",
    "    print(t)"
   ]
  },
  {
   "cell_type": "code",
   "execution_count": 44,
   "id": "c452f6c5",
   "metadata": {},
   "outputs": [
    {
     "name": "stdout",
     "output_type": "stream",
     "text": [
      "Secondary types of pokemon are: \n",
      "\n",
      "poison\n",
      "nan\n",
      "flying\n",
      "dark\n",
      "electric\n",
      "ice\n",
      "ground\n",
      "fairy\n",
      "grass\n",
      "fighting\n",
      "psychic\n",
      "steel\n",
      "fire\n",
      "rock\n",
      "water\n",
      "dragon\n",
      "ghost\n",
      "bug\n",
      "normal\n"
     ]
    }
   ],
   "source": [
    "print('Secondary types of pokemon are: ')\n",
    "print()\n",
    "for t in data['type2'].unique():\n",
    "    print(t)"
   ]
  },
  {
   "cell_type": "markdown",
   "id": "2681625a",
   "metadata": {},
   "source": [
    "6. How many pokemons have dual types?"
   ]
  },
  {
   "cell_type": "code",
   "execution_count": 52,
   "id": "146c803c",
   "metadata": {},
   "outputs": [
    {
     "name": "stdout",
     "output_type": "stream",
     "text": [
      "The number of pokemons with dual types:  417\n"
     ]
    }
   ],
   "source": [
    "print('The number of pokemons with dual types: ', len(data['type2'].dropna()))"
   ]
  },
  {
   "cell_type": "markdown",
   "id": "1c0c9af2",
   "metadata": {},
   "source": [
    "7. Generate the descriptive stats for Pokemon weights i.e mean, median, count, min, and max."
   ]
  },
  {
   "cell_type": "code",
   "execution_count": 54,
   "id": "168a5bce",
   "metadata": {},
   "outputs": [
    {
     "data": {
      "text/plain": [
       "count    781.000000\n",
       "mean      61.378105\n",
       "std      109.354766\n",
       "min        0.100000\n",
       "25%        9.000000\n",
       "50%       27.300000\n",
       "75%       64.800000\n",
       "max      999.900000\n",
       "Name: weight_kg, dtype: float64"
      ]
     },
     "execution_count": 54,
     "metadata": {},
     "output_type": "execute_result"
    }
   ],
   "source": [
    "data['weight_kg'].describe()"
   ]
  },
  {
   "cell_type": "markdown",
   "id": "76fc9de2",
   "metadata": {},
   "source": [
    "8. Create a table that has two columns: a Pokemon ability and the number of Pokemon capable of having that ability."
   ]
  },
  {
   "cell_type": "code",
   "execution_count": 105,
   "id": "403c0f02",
   "metadata": {},
   "outputs": [],
   "source": [
    "data_copy = data.copy(deep = True)\n",
    "data_copy['abilities'] = data_copy['abilities'].str.replace(r'[\\[\\]]', '', regex=True).str.strip()\n",
    "data_copy['abilities'] = data_copy['abilities'].str.split(',')\n",
    "data_exploded = data_copy.explode('abilities')\n",
    "data_exploded['abilities'] = data_exploded['abilities'].str.strip()"
   ]
  },
  {
   "cell_type": "code",
   "execution_count": 106,
   "id": "3acb322c",
   "metadata": {},
   "outputs": [],
   "source": [
    "ability_count = data_exploded.groupby('abilities').size().reset_index(name = 'Number of pokemons')"
   ]
  },
  {
   "cell_type": "code",
   "execution_count": 107,
   "id": "727b5df0",
   "metadata": {},
   "outputs": [
    {
     "data": {
      "text/html": [
       "<div>\n",
       "<style scoped>\n",
       "    .dataframe tbody tr th:only-of-type {\n",
       "        vertical-align: middle;\n",
       "    }\n",
       "\n",
       "    .dataframe tbody tr th {\n",
       "        vertical-align: top;\n",
       "    }\n",
       "\n",
       "    .dataframe thead th {\n",
       "        text-align: right;\n",
       "    }\n",
       "</style>\n",
       "<table border=\"1\" class=\"dataframe\">\n",
       "  <thead>\n",
       "    <tr style=\"text-align: right;\">\n",
       "      <th></th>\n",
       "      <th>abilities</th>\n",
       "      <th>Number of pokemons</th>\n",
       "    </tr>\n",
       "  </thead>\n",
       "  <tbody>\n",
       "    <tr>\n",
       "      <th>0</th>\n",
       "      <td>'Adaptability'</td>\n",
       "      <td>10</td>\n",
       "    </tr>\n",
       "    <tr>\n",
       "      <th>1</th>\n",
       "      <td>'Aftermath'</td>\n",
       "      <td>8</td>\n",
       "    </tr>\n",
       "    <tr>\n",
       "      <th>2</th>\n",
       "      <td>'Air Lock'</td>\n",
       "      <td>1</td>\n",
       "    </tr>\n",
       "    <tr>\n",
       "      <th>3</th>\n",
       "      <td>'Analytic'</td>\n",
       "      <td>12</td>\n",
       "    </tr>\n",
       "    <tr>\n",
       "      <th>4</th>\n",
       "      <td>'Anger Point'</td>\n",
       "      <td>9</td>\n",
       "    </tr>\n",
       "    <tr>\n",
       "      <th>...</th>\n",
       "      <td>...</td>\n",
       "      <td>...</td>\n",
       "    </tr>\n",
       "    <tr>\n",
       "      <th>222</th>\n",
       "      <td>'White Smoke'</td>\n",
       "      <td>2</td>\n",
       "    </tr>\n",
       "    <tr>\n",
       "      <th>223</th>\n",
       "      <td>'Wimp Out'</td>\n",
       "      <td>1</td>\n",
       "    </tr>\n",
       "    <tr>\n",
       "      <th>224</th>\n",
       "      <td>'Wonder Guard'</td>\n",
       "      <td>1</td>\n",
       "    </tr>\n",
       "    <tr>\n",
       "      <th>225</th>\n",
       "      <td>'Wonder Skin '</td>\n",
       "      <td>5</td>\n",
       "    </tr>\n",
       "    <tr>\n",
       "      <th>226</th>\n",
       "      <td>'Zen Mode'</td>\n",
       "      <td>1</td>\n",
       "    </tr>\n",
       "  </tbody>\n",
       "</table>\n",
       "<p>227 rows × 2 columns</p>\n",
       "</div>"
      ],
      "text/plain": [
       "          abilities  Number of pokemons\n",
       "0    'Adaptability'                  10\n",
       "1       'Aftermath'                   8\n",
       "2        'Air Lock'                   1\n",
       "3        'Analytic'                  12\n",
       "4     'Anger Point'                   9\n",
       "..              ...                 ...\n",
       "222   'White Smoke'                   2\n",
       "223      'Wimp Out'                   1\n",
       "224  'Wonder Guard'                   1\n",
       "225  'Wonder Skin '                   5\n",
       "226      'Zen Mode'                   1\n",
       "\n",
       "[227 rows x 2 columns]"
      ]
     },
     "execution_count": 107,
     "metadata": {},
     "output_type": "execute_result"
    }
   ],
   "source": [
    "ability_count"
   ]
  },
  {
   "cell_type": "markdown",
   "id": "cfe1359b",
   "metadata": {},
   "source": [
    "9. Which generation has the highest Pokemon? Which has the fewest?"
   ]
  },
  {
   "cell_type": "code",
   "execution_count": 127,
   "id": "5ad03c28",
   "metadata": {},
   "outputs": [],
   "source": [
    "gens = data.groupby('generation').size().reset_index(name = 'Number of pokemons')\n",
    "gens.sort_values(by = 'Number of pokemons', ascending = False, inplace = True)"
   ]
  },
  {
   "cell_type": "code",
   "execution_count": 129,
   "id": "07228e96",
   "metadata": {},
   "outputs": [
    {
     "name": "stdout",
     "output_type": "stream",
     "text": [
      "The generation with the highest number of pokemons is:  5\n",
      "The generation with the least number of pokemons is:  6\n"
     ]
    }
   ],
   "source": [
    "print('The generation with the highest number of pokemons is: ', gens['generation'].iloc[0])\n",
    "print('The generation with the least number of pokemons is: ', gens['generation'].iloc[-1])"
   ]
  },
  {
   "cell_type": "markdown",
   "id": "70d1fc3d",
   "metadata": {},
   "source": [
    "10. Create a new column bmi that computes the body mass index of each Pokemon. Next, create a dataframe that sorts all Pokemon by BMI."
   ]
  },
  {
   "cell_type": "code",
   "execution_count": 133,
   "id": "bd161786",
   "metadata": {},
   "outputs": [],
   "source": [
    "data['bmi'] = data['weight_kg']/(data['height_m']**2)"
   ]
  },
  {
   "cell_type": "code",
   "execution_count": 134,
   "id": "8bad8425",
   "metadata": {},
   "outputs": [],
   "source": [
    "data_bmi_sorted = data.sort_values(by = 'bmi')"
   ]
  },
  {
   "cell_type": "code",
   "execution_count": 136,
   "id": "ecdf3886",
   "metadata": {},
   "outputs": [
    {
     "data": {
      "text/html": [
       "<div>\n",
       "<style scoped>\n",
       "    .dataframe tbody tr th:only-of-type {\n",
       "        vertical-align: middle;\n",
       "    }\n",
       "\n",
       "    .dataframe tbody tr th {\n",
       "        vertical-align: top;\n",
       "    }\n",
       "\n",
       "    .dataframe thead th {\n",
       "        text-align: right;\n",
       "    }\n",
       "</style>\n",
       "<table border=\"1\" class=\"dataframe\">\n",
       "  <thead>\n",
       "    <tr style=\"text-align: right;\">\n",
       "      <th></th>\n",
       "      <th>abilities</th>\n",
       "      <th>against_bug</th>\n",
       "      <th>against_dark</th>\n",
       "      <th>against_dragon</th>\n",
       "      <th>against_electric</th>\n",
       "      <th>against_fairy</th>\n",
       "      <th>against_fight</th>\n",
       "      <th>against_fire</th>\n",
       "      <th>against_flying</th>\n",
       "      <th>against_ghost</th>\n",
       "      <th>...</th>\n",
       "      <th>pokedex_number</th>\n",
       "      <th>sp_attack</th>\n",
       "      <th>sp_defense</th>\n",
       "      <th>speed</th>\n",
       "      <th>type1</th>\n",
       "      <th>type2</th>\n",
       "      <th>weight_kg</th>\n",
       "      <th>generation</th>\n",
       "      <th>is_legendary</th>\n",
       "      <th>bmi</th>\n",
       "    </tr>\n",
       "  </thead>\n",
       "  <tbody>\n",
       "    <tr>\n",
       "      <th>92</th>\n",
       "      <td>['Levitate']</td>\n",
       "      <td>0.25</td>\n",
       "      <td>2.0</td>\n",
       "      <td>1.0</td>\n",
       "      <td>1.0</td>\n",
       "      <td>0.5</td>\n",
       "      <td>0.0</td>\n",
       "      <td>1.0</td>\n",
       "      <td>1.0</td>\n",
       "      <td>2.0</td>\n",
       "      <td>...</td>\n",
       "      <td>93</td>\n",
       "      <td>115</td>\n",
       "      <td>55</td>\n",
       "      <td>95</td>\n",
       "      <td>ghost</td>\n",
       "      <td>poison</td>\n",
       "      <td>0.1</td>\n",
       "      <td>1</td>\n",
       "      <td>0</td>\n",
       "      <td>0.039062</td>\n",
       "    </tr>\n",
       "    <tr>\n",
       "      <th>91</th>\n",
       "      <td>['Levitate']</td>\n",
       "      <td>0.25</td>\n",
       "      <td>2.0</td>\n",
       "      <td>1.0</td>\n",
       "      <td>1.0</td>\n",
       "      <td>0.5</td>\n",
       "      <td>0.0</td>\n",
       "      <td>1.0</td>\n",
       "      <td>1.0</td>\n",
       "      <td>2.0</td>\n",
       "      <td>...</td>\n",
       "      <td>92</td>\n",
       "      <td>100</td>\n",
       "      <td>35</td>\n",
       "      <td>80</td>\n",
       "      <td>ghost</td>\n",
       "      <td>poison</td>\n",
       "      <td>0.1</td>\n",
       "      <td>1</td>\n",
       "      <td>0</td>\n",
       "      <td>0.059172</td>\n",
       "    </tr>\n",
       "    <tr>\n",
       "      <th>146</th>\n",
       "      <td>['Shed Skin', 'Marvel Scale']</td>\n",
       "      <td>1.00</td>\n",
       "      <td>1.0</td>\n",
       "      <td>2.0</td>\n",
       "      <td>0.5</td>\n",
       "      <td>2.0</td>\n",
       "      <td>1.0</td>\n",
       "      <td>0.5</td>\n",
       "      <td>1.0</td>\n",
       "      <td>1.0</td>\n",
       "      <td>...</td>\n",
       "      <td>147</td>\n",
       "      <td>50</td>\n",
       "      <td>50</td>\n",
       "      <td>50</td>\n",
       "      <td>dragon</td>\n",
       "      <td>NaN</td>\n",
       "      <td>3.3</td>\n",
       "      <td>1</td>\n",
       "      <td>0</td>\n",
       "      <td>1.018519</td>\n",
       "    </tr>\n",
       "    <tr>\n",
       "      <th>147</th>\n",
       "      <td>['Shed Skin', 'Marvel Scale']</td>\n",
       "      <td>1.00</td>\n",
       "      <td>1.0</td>\n",
       "      <td>2.0</td>\n",
       "      <td>0.5</td>\n",
       "      <td>2.0</td>\n",
       "      <td>1.0</td>\n",
       "      <td>0.5</td>\n",
       "      <td>1.0</td>\n",
       "      <td>1.0</td>\n",
       "      <td>...</td>\n",
       "      <td>148</td>\n",
       "      <td>70</td>\n",
       "      <td>70</td>\n",
       "      <td>70</td>\n",
       "      <td>dragon</td>\n",
       "      <td>NaN</td>\n",
       "      <td>16.5</td>\n",
       "      <td>1</td>\n",
       "      <td>0</td>\n",
       "      <td>1.031250</td>\n",
       "    </tr>\n",
       "    <tr>\n",
       "      <th>797</th>\n",
       "      <td>['Beast Boost']</td>\n",
       "      <td>1.00</td>\n",
       "      <td>1.0</td>\n",
       "      <td>0.5</td>\n",
       "      <td>0.5</td>\n",
       "      <td>0.5</td>\n",
       "      <td>2.0</td>\n",
       "      <td>4.0</td>\n",
       "      <td>1.0</td>\n",
       "      <td>1.0</td>\n",
       "      <td>...</td>\n",
       "      <td>798</td>\n",
       "      <td>59</td>\n",
       "      <td>31</td>\n",
       "      <td>109</td>\n",
       "      <td>grass</td>\n",
       "      <td>steel</td>\n",
       "      <td>0.1</td>\n",
       "      <td>7</td>\n",
       "      <td>1</td>\n",
       "      <td>1.111111</td>\n",
       "    </tr>\n",
       "    <tr>\n",
       "      <th>...</th>\n",
       "      <td>...</td>\n",
       "      <td>...</td>\n",
       "      <td>...</td>\n",
       "      <td>...</td>\n",
       "      <td>...</td>\n",
       "      <td>...</td>\n",
       "      <td>...</td>\n",
       "      <td>...</td>\n",
       "      <td>...</td>\n",
       "      <td>...</td>\n",
       "      <td>...</td>\n",
       "      <td>...</td>\n",
       "      <td>...</td>\n",
       "      <td>...</td>\n",
       "      <td>...</td>\n",
       "      <td>...</td>\n",
       "      <td>...</td>\n",
       "      <td>...</td>\n",
       "      <td>...</td>\n",
       "      <td>...</td>\n",
       "      <td>...</td>\n",
       "    </tr>\n",
       "    <tr>\n",
       "      <th>88</th>\n",
       "      <td>['Stench', 'Sticky Hold', 'Poison Touch', 'Poi...</td>\n",
       "      <td>0.50</td>\n",
       "      <td>1.0</td>\n",
       "      <td>1.0</td>\n",
       "      <td>1.0</td>\n",
       "      <td>0.5</td>\n",
       "      <td>0.5</td>\n",
       "      <td>1.0</td>\n",
       "      <td>1.0</td>\n",
       "      <td>1.0</td>\n",
       "      <td>...</td>\n",
       "      <td>89</td>\n",
       "      <td>65</td>\n",
       "      <td>100</td>\n",
       "      <td>50</td>\n",
       "      <td>poison</td>\n",
       "      <td>poison</td>\n",
       "      <td>NaN</td>\n",
       "      <td>1</td>\n",
       "      <td>0</td>\n",
       "      <td>NaN</td>\n",
       "    </tr>\n",
       "    <tr>\n",
       "      <th>102</th>\n",
       "      <td>['Chlorophyll', 'Harvest', 'Frisk', 'Harvest']</td>\n",
       "      <td>4.00</td>\n",
       "      <td>2.0</td>\n",
       "      <td>1.0</td>\n",
       "      <td>0.5</td>\n",
       "      <td>1.0</td>\n",
       "      <td>0.5</td>\n",
       "      <td>2.0</td>\n",
       "      <td>2.0</td>\n",
       "      <td>2.0</td>\n",
       "      <td>...</td>\n",
       "      <td>103</td>\n",
       "      <td>125</td>\n",
       "      <td>75</td>\n",
       "      <td>45</td>\n",
       "      <td>grass</td>\n",
       "      <td>psychic</td>\n",
       "      <td>NaN</td>\n",
       "      <td>1</td>\n",
       "      <td>0</td>\n",
       "      <td>NaN</td>\n",
       "    </tr>\n",
       "    <tr>\n",
       "      <th>104</th>\n",
       "      <td>['Rock Head', 'Lightningrod', 'Battle Armor', ...</td>\n",
       "      <td>1.00</td>\n",
       "      <td>1.0</td>\n",
       "      <td>1.0</td>\n",
       "      <td>0.0</td>\n",
       "      <td>1.0</td>\n",
       "      <td>1.0</td>\n",
       "      <td>1.0</td>\n",
       "      <td>1.0</td>\n",
       "      <td>1.0</td>\n",
       "      <td>...</td>\n",
       "      <td>105</td>\n",
       "      <td>50</td>\n",
       "      <td>80</td>\n",
       "      <td>45</td>\n",
       "      <td>ground</td>\n",
       "      <td>fire</td>\n",
       "      <td>NaN</td>\n",
       "      <td>1</td>\n",
       "      <td>0</td>\n",
       "      <td>NaN</td>\n",
       "    </tr>\n",
       "    <tr>\n",
       "      <th>719</th>\n",
       "      <td>['Magician']</td>\n",
       "      <td>1.00</td>\n",
       "      <td>4.0</td>\n",
       "      <td>1.0</td>\n",
       "      <td>1.0</td>\n",
       "      <td>1.0</td>\n",
       "      <td>0.0</td>\n",
       "      <td>1.0</td>\n",
       "      <td>1.0</td>\n",
       "      <td>4.0</td>\n",
       "      <td>...</td>\n",
       "      <td>720</td>\n",
       "      <td>170</td>\n",
       "      <td>130</td>\n",
       "      <td>80</td>\n",
       "      <td>psychic</td>\n",
       "      <td>ghost</td>\n",
       "      <td>NaN</td>\n",
       "      <td>6</td>\n",
       "      <td>1</td>\n",
       "      <td>NaN</td>\n",
       "    </tr>\n",
       "    <tr>\n",
       "      <th>744</th>\n",
       "      <td>['Keen Eye', 'Sand Rush', 'Steadfast', 'Keen E...</td>\n",
       "      <td>1.00</td>\n",
       "      <td>1.0</td>\n",
       "      <td>1.0</td>\n",
       "      <td>1.0</td>\n",
       "      <td>1.0</td>\n",
       "      <td>2.0</td>\n",
       "      <td>0.5</td>\n",
       "      <td>0.5</td>\n",
       "      <td>1.0</td>\n",
       "      <td>...</td>\n",
       "      <td>745</td>\n",
       "      <td>55</td>\n",
       "      <td>75</td>\n",
       "      <td>82</td>\n",
       "      <td>rock</td>\n",
       "      <td>NaN</td>\n",
       "      <td>NaN</td>\n",
       "      <td>7</td>\n",
       "      <td>0</td>\n",
       "      <td>NaN</td>\n",
       "    </tr>\n",
       "  </tbody>\n",
       "</table>\n",
       "<p>801 rows × 42 columns</p>\n",
       "</div>"
      ],
      "text/plain": [
       "                                             abilities  against_bug  \\\n",
       "92                                        ['Levitate']         0.25   \n",
       "91                                        ['Levitate']         0.25   \n",
       "146                      ['Shed Skin', 'Marvel Scale']         1.00   \n",
       "147                      ['Shed Skin', 'Marvel Scale']         1.00   \n",
       "797                                    ['Beast Boost']         1.00   \n",
       "..                                                 ...          ...   \n",
       "88   ['Stench', 'Sticky Hold', 'Poison Touch', 'Poi...         0.50   \n",
       "102     ['Chlorophyll', 'Harvest', 'Frisk', 'Harvest']         4.00   \n",
       "104  ['Rock Head', 'Lightningrod', 'Battle Armor', ...         1.00   \n",
       "719                                       ['Magician']         1.00   \n",
       "744  ['Keen Eye', 'Sand Rush', 'Steadfast', 'Keen E...         1.00   \n",
       "\n",
       "     against_dark  against_dragon  against_electric  against_fairy  \\\n",
       "92            2.0             1.0               1.0            0.5   \n",
       "91            2.0             1.0               1.0            0.5   \n",
       "146           1.0             2.0               0.5            2.0   \n",
       "147           1.0             2.0               0.5            2.0   \n",
       "797           1.0             0.5               0.5            0.5   \n",
       "..            ...             ...               ...            ...   \n",
       "88            1.0             1.0               1.0            0.5   \n",
       "102           2.0             1.0               0.5            1.0   \n",
       "104           1.0             1.0               0.0            1.0   \n",
       "719           4.0             1.0               1.0            1.0   \n",
       "744           1.0             1.0               1.0            1.0   \n",
       "\n",
       "     against_fight  against_fire  against_flying  against_ghost  ...  \\\n",
       "92             0.0           1.0             1.0            2.0  ...   \n",
       "91             0.0           1.0             1.0            2.0  ...   \n",
       "146            1.0           0.5             1.0            1.0  ...   \n",
       "147            1.0           0.5             1.0            1.0  ...   \n",
       "797            2.0           4.0             1.0            1.0  ...   \n",
       "..             ...           ...             ...            ...  ...   \n",
       "88             0.5           1.0             1.0            1.0  ...   \n",
       "102            0.5           2.0             2.0            2.0  ...   \n",
       "104            1.0           1.0             1.0            1.0  ...   \n",
       "719            0.0           1.0             1.0            4.0  ...   \n",
       "744            2.0           0.5             0.5            1.0  ...   \n",
       "\n",
       "     pokedex_number  sp_attack  sp_defense  speed    type1    type2  \\\n",
       "92               93        115          55     95    ghost   poison   \n",
       "91               92        100          35     80    ghost   poison   \n",
       "146             147         50          50     50   dragon      NaN   \n",
       "147             148         70          70     70   dragon      NaN   \n",
       "797             798         59          31    109    grass    steel   \n",
       "..              ...        ...         ...    ...      ...      ...   \n",
       "88               89         65         100     50   poison   poison   \n",
       "102             103        125          75     45    grass  psychic   \n",
       "104             105         50          80     45   ground     fire   \n",
       "719             720        170         130     80  psychic    ghost   \n",
       "744             745         55          75     82     rock      NaN   \n",
       "\n",
       "     weight_kg  generation  is_legendary       bmi  \n",
       "92         0.1           1             0  0.039062  \n",
       "91         0.1           1             0  0.059172  \n",
       "146        3.3           1             0  1.018519  \n",
       "147       16.5           1             0  1.031250  \n",
       "797        0.1           7             1  1.111111  \n",
       "..         ...         ...           ...       ...  \n",
       "88         NaN           1             0       NaN  \n",
       "102        NaN           1             0       NaN  \n",
       "104        NaN           1             0       NaN  \n",
       "719        NaN           6             1       NaN  \n",
       "744        NaN           7             0       NaN  \n",
       "\n",
       "[801 rows x 42 columns]"
      ]
     },
     "execution_count": 136,
     "metadata": {},
     "output_type": "execute_result"
    }
   ],
   "source": [
    "data_bmi_sorted"
   ]
  },
  {
   "cell_type": "markdown",
   "id": "3794184b",
   "metadata": {},
   "source": [
    "11. Which type combination has the fewest weaknesses?"
   ]
  },
  {
   "cell_type": "code",
   "execution_count": 140,
   "id": "4531d0e2",
   "metadata": {},
   "outputs": [],
   "source": [
    "resistance = data[['type1', 'type2', *[col for col in data.columns if 'against' in col]]]\n",
    "resistance_unique = resistance.drop_duplicates(subset = ['type1', 'type2'])"
   ]
  },
  {
   "cell_type": "code",
   "execution_count": 152,
   "id": "88bbd140",
   "metadata": {},
   "outputs": [
    {
     "name": "stderr",
     "output_type": "stream",
     "text": [
      "C:\\Users\\SIDDHA~1\\AppData\\Local\\Temp/ipykernel_24080/141564908.py:1: SettingWithCopyWarning: \n",
      "A value is trying to be set on a copy of a slice from a DataFrame.\n",
      "Try using .loc[row_indexer,col_indexer] = value instead\n",
      "\n",
      "See the caveats in the documentation: https://pandas.pydata.org/pandas-docs/stable/user_guide/indexing.html#returning-a-view-versus-a-copy\n",
      "  resistance_unique['against_total'] = resistance_unique.drop(['type1', 'type2'], axis = 1).sum(axis = 1)\n"
     ]
    }
   ],
   "source": [
    "resistance_unique['against_total'] = resistance_unique.drop(['type1', 'type2'], axis = 1).sum(axis = 1)\n",
    "resistance_unique.sort_values(by = 'against_total', inplace = True)"
   ]
  },
  {
   "cell_type": "code",
   "execution_count": 162,
   "id": "6d7a79f9",
   "metadata": {},
   "outputs": [
    {
     "name": "stdout",
     "output_type": "stream",
     "text": [
      "The type combination with the fewest weaknesses is: steel-fairy\n"
     ]
    }
   ],
   "source": [
    "print(f\"The type combination with the fewest weaknesses is: {resistance_unique['type1'].iloc[0]}-{resistance_unique['type2'].iloc[0]}\" )"
   ]
  },
  {
   "cell_type": "markdown",
   "id": "508b2931",
   "metadata": {},
   "source": [
    "12. List all types that a rock type Pokemon would be weak against."
   ]
  },
  {
   "cell_type": "code",
   "execution_count": 177,
   "id": "7b33a979",
   "metadata": {},
   "outputs": [],
   "source": [
    "rock_pokemons = data[(data['type1'] == 'rock')]"
   ]
  },
  {
   "cell_type": "code",
   "execution_count": 211,
   "id": "48771d3e",
   "metadata": {},
   "outputs": [],
   "source": [
    "rock_pokemons_damage = rock_pokemons[[col for col in fire_pokemons.columns if 'against' in col]]\n",
    "weaknesses = (rock_pokemons_damage == 2.0).any(axis=0)"
   ]
  },
  {
   "cell_type": "code",
   "execution_count": 213,
   "id": "80a76410",
   "metadata": {},
   "outputs": [
    {
     "name": "stdout",
     "output_type": "stream",
     "text": [
      "All types that a rock pokemon would be weak against: \n",
      "\n",
      "bug\n",
      "dark\n",
      "dragon\n",
      "electric\n",
      "fairy\n",
      "fight\n",
      "ghost\n",
      "grass\n",
      "ground\n",
      "ice\n",
      "psychic\n",
      "rock\n",
      "steel\n",
      "water\n"
     ]
    }
   ],
   "source": [
    "print('All types that a rock pokemon would be weak against: ')\n",
    "print()\n",
    "for col in weaknesses[weaknesses].index:\n",
    "    print(col.split('_')[1])\n"
   ]
  },
  {
   "cell_type": "markdown",
   "id": "46715f54",
   "metadata": {},
   "source": [
    "13. List all types that would cause 2x damage to a fire type Pokemon."
   ]
  },
  {
   "cell_type": "code",
   "execution_count": 179,
   "id": "be8c5be1",
   "metadata": {},
   "outputs": [],
   "source": [
    "fire_pokemons = data[(data['type1'] == 'fire')]"
   ]
  },
  {
   "cell_type": "code",
   "execution_count": 199,
   "id": "fe1429a9",
   "metadata": {},
   "outputs": [],
   "source": [
    "damage = fire_pokemons[[col for col in fire_pokemons.columns if 'against' in col]]"
   ]
  },
  {
   "cell_type": "code",
   "execution_count": 201,
   "id": "4b843c42",
   "metadata": {},
   "outputs": [],
   "source": [
    "columns_with_2 = (damage == 2.0).any(axis=0)"
   ]
  },
  {
   "cell_type": "code",
   "execution_count": 208,
   "id": "d367892b",
   "metadata": {},
   "outputs": [
    {
     "name": "stdout",
     "output_type": "stream",
     "text": [
      "All types that would cause 2x damage to a fire type pokemon: \n",
      "\n",
      "dark\n",
      "dragon\n",
      "electric\n",
      "fight\n",
      "flying\n",
      "ghost\n",
      "ground\n",
      "psychic\n",
      "rock\n",
      "water\n"
     ]
    }
   ],
   "source": [
    "print('All types that would cause 2x damage to a fire type pokemon: ')\n",
    "print()\n",
    "for col in columns_with_2[columns_with_2].index:\n",
    "    print(col.split('_')[1])"
   ]
  },
  {
   "cell_type": "markdown",
   "id": "01ff7972",
   "metadata": {},
   "source": [
    "14. Find all Pokemon that have the dual Water/Ground typing."
   ]
  },
  {
   "cell_type": "code",
   "execution_count": 183,
   "id": "07742077",
   "metadata": {},
   "outputs": [],
   "source": [
    "water_ground_pokemons = data[(data['type1'] == 'water') & (data['type1'] == 'ground')]"
   ]
  },
  {
   "cell_type": "code",
   "execution_count": 184,
   "id": "38599725",
   "metadata": {},
   "outputs": [
    {
     "data": {
      "text/html": [
       "<div>\n",
       "<style scoped>\n",
       "    .dataframe tbody tr th:only-of-type {\n",
       "        vertical-align: middle;\n",
       "    }\n",
       "\n",
       "    .dataframe tbody tr th {\n",
       "        vertical-align: top;\n",
       "    }\n",
       "\n",
       "    .dataframe thead th {\n",
       "        text-align: right;\n",
       "    }\n",
       "</style>\n",
       "<table border=\"1\" class=\"dataframe\">\n",
       "  <thead>\n",
       "    <tr style=\"text-align: right;\">\n",
       "      <th></th>\n",
       "      <th>abilities</th>\n",
       "      <th>against_bug</th>\n",
       "      <th>against_dark</th>\n",
       "      <th>against_dragon</th>\n",
       "      <th>against_electric</th>\n",
       "      <th>against_fairy</th>\n",
       "      <th>against_fight</th>\n",
       "      <th>against_fire</th>\n",
       "      <th>against_flying</th>\n",
       "      <th>against_ghost</th>\n",
       "      <th>...</th>\n",
       "      <th>pokedex_number</th>\n",
       "      <th>sp_attack</th>\n",
       "      <th>sp_defense</th>\n",
       "      <th>speed</th>\n",
       "      <th>type1</th>\n",
       "      <th>type2</th>\n",
       "      <th>weight_kg</th>\n",
       "      <th>generation</th>\n",
       "      <th>is_legendary</th>\n",
       "      <th>bmi</th>\n",
       "    </tr>\n",
       "  </thead>\n",
       "  <tbody>\n",
       "  </tbody>\n",
       "</table>\n",
       "<p>0 rows × 42 columns</p>\n",
       "</div>"
      ],
      "text/plain": [
       "Empty DataFrame\n",
       "Columns: [abilities, against_bug, against_dark, against_dragon, against_electric, against_fairy, against_fight, against_fire, against_flying, against_ghost, against_grass, against_ground, against_ice, against_normal, against_poison, against_psychic, against_rock, against_steel, against_water, attack, base_egg_steps, base_happiness, base_total, capture_rate, classfication, defense, experience_growth, height_m, hp, japanese_name, name, percentage_male, pokedex_number, sp_attack, sp_defense, speed, type1, type2, weight_kg, generation, is_legendary, bmi]\n",
       "Index: []\n",
       "\n",
       "[0 rows x 42 columns]"
      ]
     },
     "execution_count": 184,
     "metadata": {},
     "output_type": "execute_result"
    }
   ],
   "source": [
    "water_ground_pokemons"
   ]
  },
  {
   "cell_type": "markdown",
   "id": "841394a9",
   "metadata": {},
   "source": [
    "15. Find the average speed of every type of Pokemon. Which type has the highest average speed?"
   ]
  },
  {
   "cell_type": "code",
   "execution_count": 190,
   "id": "6a0dfd77",
   "metadata": {},
   "outputs": [],
   "source": [
    "grouped_pokemons = data.groupby(['type1', 'type2'])['speed'].mean().reset_index().sort_values(by = 'speed', ascending = False)"
   ]
  },
  {
   "cell_type": "code",
   "execution_count": 197,
   "id": "72d8278c",
   "metadata": {},
   "outputs": [
    {
     "name": "stdout",
     "output_type": "stream",
     "text": [
      "The type with the highest speed is: grass-grass\n"
     ]
    }
   ],
   "source": [
    "print(f\"The type with the highest speed is: {grouped_pokemons['type1'].iloc[0]}-{grouped_pokemons['type2'].iloc[0]}\")"
   ]
  },
  {
   "cell_type": "code",
   "execution_count": null,
   "id": "63b17328",
   "metadata": {},
   "outputs": [],
   "source": []
  }
 ],
 "metadata": {
  "kernelspec": {
   "display_name": "Python 3 (ipykernel)",
   "language": "python",
   "name": "python3"
  },
  "language_info": {
   "codemirror_mode": {
    "name": "ipython",
    "version": 3
   },
   "file_extension": ".py",
   "mimetype": "text/x-python",
   "name": "python",
   "nbconvert_exporter": "python",
   "pygments_lexer": "ipython3",
   "version": "3.8.8"
  }
 },
 "nbformat": 4,
 "nbformat_minor": 5
}
